{
 "cells": [
  {
   "cell_type": "code",
   "execution_count": null,
   "metadata": {
    "collapsed": true
   },
   "outputs": [],
   "source": [
    "import os\n",
    "from pathlib import Path\n",
    "from typing import List, Union, Optional, Tuple\n",
    "\n",
    "import pretty_midi\n",
    "from basic_pitch.inference import predict"
   ]
  },
  {
   "cell_type": "markdown",
   "source": [
    "# Classes for ml model"
   ],
   "metadata": {
    "collapsed": false
   }
  },
  {
   "cell_type": "code",
   "execution_count": null,
   "outputs": [],
   "source": [
    "def trim(midi_data: pretty_midi.PrettyMIDI):\n",
    "    first_note = midi_data.instruments[0].notes[0]\n",
    "    start_time = first_note.start\n",
    "\n",
    "    for instrument in midi_data.instruments:\n",
    "        for i, note in enumerate(instrument.notes):\n",
    "            note.start -= start_time\n",
    "            note.end -= start_time\n",
    "\n",
    "    return midi_data\n",
    "\n",
    "\n",
    "class BasicPitcher:\n",
    "    def __init__(self, default_path: Path):\n",
    "        self.default_path = default_path\n",
    "\n",
    "    def __call__(self, audio_file_path: Union[Path, str],\n",
    "                 output_path: Optional[Union[Path, str]]) -> pretty_midi.PrettyMIDI:\n",
    "        model_output, midi_data, note_events = predict(audio_file_path,\n",
    "                                                       onset_threshold=0.6,\n",
    "                                                       minimum_frequency=130.813,\n",
    "                                                       maximum_frequency=1278.75)\n",
    "\n",
    "        if output_path is None:\n",
    "            output_path = self.default_path\n",
    "        midi_data = trim(midi_data)\n",
    "        midi_data.write(output_path)\n",
    "\n",
    "        return midi_data\n"
   ],
   "metadata": {
    "collapsed": false
   }
  },
  {
   "cell_type": "markdown",
   "source": [
    "# Classes for sheet music generation"
   ],
   "metadata": {
    "collapsed": false
   }
  },
  {
   "cell_type": "code",
   "execution_count": null,
   "outputs": [],
   "source": [
    "\n",
    "import music21.stream\n",
    "\n",
    "from music21 import environment, stream, converter\n",
    "from music21.note import Note\n",
    "\n",
    "SETTINGS = {\n",
    "    'musescoreDirectPNGPath': 'C:/Program Files/MuseScore 3/bin/MuseScore3.exe',\n",
    "    'musicxmlPath': 'C:/Program Files/MuseScore 3/bin/MuseScore3.exe',\n",
    "    'lilypondPath': 'C:/Program Files/LilyPond/usr/bin/lilypond.exe'\n",
    "}\n",
    "\n",
    "\n",
    "class SheetGenerator:\n",
    "    def __init__(self, fractions: List[float], pause_fractions: List[float], default_path: Path):\n",
    "        self.fractions = fractions\n",
    "        self.pause_fractions = pause_fractions\n",
    "        self.default_path = default_path\n",
    "        self.env = environment.Environment\n",
    "        us = environment.UserSettings()\n",
    "        us_path = us.getSettingsPath()\n",
    "        if not os.path.exists(us_path):\n",
    "            us.create()\n",
    "\n",
    "        us['musescoreDirectPNGPath'] = SETTINGS['musescoreDirectPNGPath']\n",
    "        us['musicxmlPath'] = SETTINGS['musicxmlPath']\n",
    "        us['lilypondPath'] = SETTINGS['lilypondPath']\n",
    "\n",
    "    def get_notes_from_midi(self, midi_data: pretty_midi.PrettyMIDI) -> Tuple[List[pretty_midi.Note], float]:\n",
    "        notes = []\n",
    "        try:\n",
    "            tempo = midi_data.estimate_tempo()\n",
    "        except ValueError:\n",
    "            tempo = 0\n",
    "            return notes, tempo\n",
    "\n",
    "        beats_per_second = tempo / 60\n",
    "        avg_note_time = 1 / beats_per_second\n",
    "        print(avg_note_time)\n",
    "        for instrument in midi_data.instruments:\n",
    "            for i, note in enumerate(instrument.notes):\n",
    "                note_time = note.end - note.start\n",
    "                # if note_time / avg_note_time < 0.1 and i > 0:\n",
    "                #     if note.pitch == instrument.notes[i - 1].pitch:\n",
    "                #         instrument.notes[i - 1].end = note.end\n",
    "                #         continue\n",
    "                notes.append(note)\n",
    "\n",
    "                note_fraction = note_time / avg_note_time\n",
    "                note_fraction = min(self.fractions, key=lambda x: abs(x - note_fraction))\n",
    "\n",
    "        return notes, tempo\n",
    "\n",
    "    def _preprocess_notes(self, notes: List[pretty_midi.Note], tempo: float) -> stream.Stream:\n",
    "        m21_notes = []\n",
    "        notes_in_one_sec = tempo / 60\n",
    "        one_time = round(1 / notes_in_one_sec, 2)\n",
    "        stream1 = stream.Stream()\n",
    "\n",
    "        for i, _note in enumerate(notes):\n",
    "            options = self.fractions\n",
    "            pause_options = self.pause_fractions\n",
    "\n",
    "            name = _note.pitch\n",
    "            rest = None\n",
    "            if i + 1 < len(notes):\n",
    "                next_note = notes[i + 1]\n",
    "\n",
    "                if next_note.start < _note.end:\n",
    "                    _note.end = next_note.start\n",
    "                pause_fraction = (next_note.start - _note.end) / one_time\n",
    "                if pause_fraction > 0.7:\n",
    "                    rest_fraction = min(pause_options, key=lambda x: abs(x - pause_fraction))\n",
    "                    rest = music21.note.Rest(quarterLength=rest_fraction)\n",
    "\n",
    "            note_time = _note.end - _note.start\n",
    "            note_fraction = note_time / one_time\n",
    "\n",
    "            note_fraction = min(options, key=lambda x: abs(x - note_fraction))\n",
    "            m21_note = Note(name, quarterLength=note_fraction)\n",
    "\n",
    "            m21_notes.append(m21_note)\n",
    "            stream1.append(m21_note)\n",
    "\n",
    "            if rest is not None:\n",
    "                stream1.append(rest)\n",
    "\n",
    "        return stream1\n",
    "\n",
    "    @staticmethod\n",
    "    def read_xml(xml_path: Path) -> stream.Stream:\n",
    "        xml_score = converter.parse(xml_path)\n",
    "        xml_stream = stream.Stream(xml_score.parts[0].flatten().notesAndRests)\n",
    "\n",
    "        return xml_stream\n",
    "\n",
    "    def __call__(self, midi_data: pretty_midi.PrettyMIDI, output_path: Optional[Union[Path, str]] = None) -> str:\n",
    "        notes, tempo = self.get_notes_from_midi(midi_data)\n",
    "        stream1 = self._preprocess_notes(notes, tempo)\n",
    "\n",
    "        if output_path is None:\n",
    "            output_path = self.default_path\n",
    "\n",
    "        stream1.write('musicxml', fp=output_path)\n",
    "\n",
    "        return str(output_path)\n"
   ],
   "metadata": {
    "collapsed": false
   }
  },
  {
   "cell_type": "markdown",
   "source": [
    "# Example of pipeline usage"
   ],
   "metadata": {
    "collapsed": false
   }
  },
  {
   "cell_type": "code",
   "execution_count": null,
   "outputs": [],
   "source": [
    "audio_path = 'data/1.wav'\n",
    "midi_path = 'data/1.mid'\n",
    "sheet_path = 'data/1.xml'\n",
    "\n",
    "basic_pitcher = BasicPitcher(Path(midi_path))\n",
    "sheet_generator = SheetGenerator(fractions=[0.25, 0.5, 1, 2, 4], pause_fractions=[0.25, 0.5, 1, 2, 4],\n",
    "                                 default_path=Path(sheet_path))\n",
    "\n",
    "midi_data = basic_pitcher(audio_path, midi_path)\n",
    "sheet_generator(midi_data, sheet_path)"
   ],
   "metadata": {
    "collapsed": false
   }
  }
 ],
 "metadata": {
  "kernelspec": {
   "display_name": "Python 3",
   "language": "python",
   "name": "python3"
  },
  "language_info": {
   "codemirror_mode": {
    "name": "ipython",
    "version": 2
   },
   "file_extension": ".py",
   "mimetype": "text/x-python",
   "name": "python",
   "nbconvert_exporter": "python",
   "pygments_lexer": "ipython2",
   "version": "2.7.6"
  }
 },
 "nbformat": 4,
 "nbformat_minor": 0
}
